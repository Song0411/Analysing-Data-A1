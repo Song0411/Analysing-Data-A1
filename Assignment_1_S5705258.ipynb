{
 "cells": [
  {
   "cell_type": "markdown",
   "metadata": {
    "id": "rbgjVp6BXGCT"
   },
   "source": [
    "\n",
    "# **Assignment 1**\n",
    "\n",
    "\n",
    "## Task 1. Correlation\n",
    "We will use the data example from the textbook \"Statistical Analysis with The General Linear Model\" by Miller and Haden (2013), Chapter 11.\n",
    "\n",
    "As in Miller and Haden, we have five columns:\n",
    "\n",
    "-Participant (Participant),\n",
    "\n",
    "-Reading Ability (Abil),\n",
    "\n",
    "-Intelligence (IQ),\n",
    "\n",
    "-Number of minutes spent reading at home per week (Home),\n",
    "\n",
    "-Number of minutes spent watching TV per week (TV).\n",
    "\n",
    "\n",
    "For the task we will focus on the relationship between Reading Ability and IQ, but for further practice you can look at other relationships on your own."
   ]
  },
  {
   "cell_type": "markdown",
   "metadata": {
    "id": "Z4cXzKORYFaD"
   },
   "source": [
    "**Question 1**:\n",
    "\n",
    "a. Check whether the data is interval, ratio, or ordinal.\n",
    "\n",
    "b. Check whether there is a data point for each participant on both variables.\n",
    "\n",
    "c. Check whether the data is normally distributed in both variables.\n",
    "\n",
    "d. Create a scatter plot with Reading Ability being the x-axis and IQ, being the y-axis.\n",
    "\n",
    "e. Draw a correlation line on the scatter plot.\n",
    "\n",
    "\n",
    "**Instructions:**\n",
    "\n",
    "1. Load the necessary libraries and explain why you need them (\"#used for ...\").\n",
    "\n",
    "2. Read the MillerHadenData.csv file into a DataFrame and name it \"df_mh\"."
   ]
  },
  {
   "cell_type": "code",
   "execution_count": 4,
   "metadata": {},
   "outputs": [
    {
     "name": "stdout",
     "output_type": "stream",
     "text": [
      "Collecting pingouin\n",
      "  Obtaining dependency information for pingouin from https://files.pythonhosted.org/packages/35/2e/8ca90e7edc93bc3d3bdf6daa6d5fc5ae4882994171c3db765365227e1d58/pingouin-0.5.4-py2.py3-none-any.whl.metadata\n",
      "  Downloading pingouin-0.5.4-py2.py3-none-any.whl.metadata (1.1 kB)\n",
      "Requirement already satisfied: numpy in d:\\anaconda\\lib\\site-packages (from pingouin) (1.24.3)\n",
      "Requirement already satisfied: scipy in d:\\anaconda\\lib\\site-packages (from pingouin) (1.10.1)\n",
      "Requirement already satisfied: pandas>=1.5 in d:\\anaconda\\lib\\site-packages (from pingouin) (1.5.3)\n",
      "Requirement already satisfied: matplotlib in d:\\anaconda\\lib\\site-packages (from pingouin) (3.7.1)\n",
      "Requirement already satisfied: seaborn in d:\\anaconda\\lib\\site-packages (from pingouin) (0.12.2)\n",
      "Requirement already satisfied: statsmodels in d:\\anaconda\\lib\\site-packages (from pingouin) (0.14.0)\n",
      "Requirement already satisfied: scikit-learn in d:\\anaconda\\lib\\site-packages (from pingouin) (1.3.0)\n",
      "Collecting pandas-flavor (from pingouin)\n",
      "  Obtaining dependency information for pandas-flavor from https://files.pythonhosted.org/packages/67/1a/bfb5574b215f530c7ac5be684f33d60b299abbebd763c203aa31755f2fb2/pandas_flavor-0.6.0-py3-none-any.whl.metadata\n",
      "  Downloading pandas_flavor-0.6.0-py3-none-any.whl.metadata (6.3 kB)\n",
      "Requirement already satisfied: tabulate in d:\\anaconda\\lib\\site-packages (from pingouin) (0.8.10)\n",
      "Requirement already satisfied: python-dateutil>=2.8.1 in d:\\anaconda\\lib\\site-packages (from pandas>=1.5->pingouin) (2.8.2)\n",
      "Requirement already satisfied: pytz>=2020.1 in d:\\anaconda\\lib\\site-packages (from pandas>=1.5->pingouin) (2022.7)\n",
      "Requirement already satisfied: contourpy>=1.0.1 in d:\\anaconda\\lib\\site-packages (from matplotlib->pingouin) (1.0.5)\n",
      "Requirement already satisfied: cycler>=0.10 in d:\\anaconda\\lib\\site-packages (from matplotlib->pingouin) (0.11.0)\n",
      "Requirement already satisfied: fonttools>=4.22.0 in d:\\anaconda\\lib\\site-packages (from matplotlib->pingouin) (4.25.0)\n",
      "Requirement already satisfied: kiwisolver>=1.0.1 in d:\\anaconda\\lib\\site-packages (from matplotlib->pingouin) (1.4.4)\n",
      "Requirement already satisfied: packaging>=20.0 in d:\\anaconda\\lib\\site-packages (from matplotlib->pingouin) (23.0)\n",
      "Requirement already satisfied: pillow>=6.2.0 in d:\\anaconda\\lib\\site-packages (from matplotlib->pingouin) (9.4.0)\n",
      "Requirement already satisfied: pyparsing>=2.3.1 in d:\\anaconda\\lib\\site-packages (from matplotlib->pingouin) (3.0.9)\n",
      "Requirement already satisfied: xarray in d:\\anaconda\\lib\\site-packages (from pandas-flavor->pingouin) (2023.6.0)\n",
      "Requirement already satisfied: joblib>=1.1.1 in d:\\anaconda\\lib\\site-packages (from scikit-learn->pingouin) (1.2.0)\n",
      "Requirement already satisfied: threadpoolctl>=2.0.0 in d:\\anaconda\\lib\\site-packages (from scikit-learn->pingouin) (2.2.0)\n",
      "Requirement already satisfied: patsy>=0.5.2 in d:\\anaconda\\lib\\site-packages (from statsmodels->pingouin) (0.5.3)\n",
      "Requirement already satisfied: six in d:\\anaconda\\lib\\site-packages (from patsy>=0.5.2->statsmodels->pingouin) (1.16.0)\n",
      "Downloading pingouin-0.5.4-py2.py3-none-any.whl (198 kB)\n",
      "   ---------------------------------------- 0.0/198.9 kB ? eta -:--:--\n",
      "   ---------------------------------------- 198.9/198.9 kB 6.1 MB/s eta 0:00:00\n",
      "Downloading pandas_flavor-0.6.0-py3-none-any.whl (7.2 kB)\n",
      "Installing collected packages: pandas-flavor, pingouin\n",
      "Successfully installed pandas-flavor-0.6.0 pingouin-0.5.4\n"
     ]
    }
   ],
   "source": [
    "!pip install pingouin"
   ]
  },
  {
   "cell_type": "code",
   "execution_count": 16,
   "metadata": {
    "id": "140M8Z4qYn_G"
   },
   "outputs": [],
   "source": [
    "import pandas as pd # used for data wrangling\n",
    "import seaborn as sns # used for visualization\n",
    "import matplotlib  # used for visualization\n",
    "from matplotlib import pyplot as plt # used for plotting graphs and charts\n",
    "import pylab # used for adding interactive features \n",
    "import pingouin as pg # used for statistical tests and data exploration\n",
    "\n",
    "df_mh = pd.read_csv('MillerHadenData.csv')\n"
   ]
  },
  {
   "cell_type": "code",
   "execution_count": 17,
   "metadata": {
    "id": "rwqidw5q2D1n"
   },
   "outputs": [
    {
     "name": "stdout",
     "output_type": "stream",
     "text": [
      "   Participant  Abil   IQ  Home   TV\n",
      "0            1    61  107   144  487\n",
      "1            2    56  109   123  608\n",
      "2            3    45   81   108  640\n",
      "3            4    66  100   155  493\n",
      "4            5    49   92   103  636\n",
      "<class 'pandas.core.frame.DataFrame'>\n",
      "RangeIndex: 25 entries, 0 to 24\n",
      "Data columns (total 5 columns):\n",
      " #   Column       Non-Null Count  Dtype\n",
      "---  ------       --------------  -----\n",
      " 0   Participant  25 non-null     int64\n",
      " 1   Abil         25 non-null     int64\n",
      " 2   IQ           25 non-null     int64\n",
      " 3   Home         25 non-null     int64\n",
      " 4   TV           25 non-null     int64\n",
      "dtypes: int64(5)\n",
      "memory usage: 1.1 KB\n",
      "None\n"
     ]
    }
   ],
   "source": [
    "# Q1a (code):\n",
    "# Display first few rows of the dataframe\n",
    "print(df_mh.head())\n",
    "\n",
    "# Check data types and information\n",
    "print(df_mh.info())\n"
   ]
  },
  {
   "cell_type": "code",
   "execution_count": 18,
   "metadata": {
    "id": "Edd9mYgi2Jar"
   },
   "outputs": [
    {
     "name": "stdout",
     "output_type": "stream",
     "text": [
      "Participant    0\n",
      "Abil           0\n",
      "IQ             0\n",
      "Home           0\n",
      "TV             0\n",
      "dtype: int64\n",
      "Number of participants missing data on either Abil or IQ: 0\n"
     ]
    }
   ],
   "source": [
    "# Q1b (code):\n",
    "# Check for missing values\n",
    "print(df_mh.isnull().sum())\n",
    "\n",
    "# Check whether there is a data point for each participant on both variables\n",
    "missing_reading_iq = df_mh[['Abil', 'IQ']].isnull().any(axis=1).sum()\n",
    "print(f\"Number of participants missing data on either Abil or IQ: {missing_reading_iq}\")\n"
   ]
  },
  {
   "cell_type": "code",
   "execution_count": 19,
   "metadata": {
    "id": "3ALe0fjr2K5h"
   },
   "outputs": [
    {
     "data": {
      "image/png": "[encoded data removed]",
      "text/plain": [
       "<Figure size 1000x500 with 2 Axes>"
      ]
     },
     "metadata": {},
     "output_type": "display_data"
    }
   ],
   "source": [
    "# Q1c (code):\n",
    "# Check data distribution\n",
    "\n",
    "# Import necessary library for plotting.\n",
    "import matplotlib.pyplot as plt\n",
    "\n",
    "# Plot histograms to visualize the distributions.\n",
    "plt.figure(figsize=(10, 5))  # Set the size of the figure for better visibility.\n",
    "\n",
    "# Histogram for Reading Ability\n",
    "plt.subplot(1, 2, 1)  # First subplot\n",
    "plt.hist(df_mh['Abil'], color='blue', edgecolor='black')\n",
    "plt.title('Reading Ability Distribution')  # Add title to the histogram\n",
    "\n",
    "# Histogram for IQ\n",
    "plt.subplot(1, 2, 2)  # Second subplot\n",
    "plt.hist(df_mh['IQ'], color='green', edgecolor='black')\n",
    "plt.title('IQ Distribution')  # Add title to the histogram\n",
    "\n",
    "# Display the plots\n",
    "plt.show()"
   ]
  },
  {
   "cell_type": "code",
   "execution_count": 20,
   "metadata": {
    "id": "xaQ300fY2MPe"
   },
   "outputs": [
    {
     "data": {
      "image/png": "[encoded data removed]",
      "text/plain": [
       "<Figure size 800x600 with 1 Axes>"
      ]
     },
     "metadata": {},
     "output_type": "display_data"
    }
   ],
   "source": [
    "# Q1d (code):\n",
    "# Scatter plot\n",
    "\n",
    "# Q1d (code):\n",
    "# Scatter plot between 'Reading Ability' and 'IQ'.\n",
    "\n",
    "# Import necessary library for plotting.\n",
    "import matplotlib.pyplot as plt\n",
    "\n",
    "# Create a scatter plot with 'Reading Ability' \n",
    "plt.figure(figsize=(8, 6))  # Set figure size for better visibility\n",
    "plt.scatter(df_mh['Abil'], df_mh['IQ'], color='purple', alpha=0.5)  # Create scatter plot\n",
    "plt.title('Scatter Plot between Reading Ability and IQ')  # Set title of the scatter plot\n",
    "plt.xlabel('Reading Ability')  # Label x-axis\n",
    "plt.ylabel('IQ')  # Label y-axis\n",
    "plt.grid(True)  # Add grid for better readability\n",
    "plt.show()  # Display the plot\n"
   ]
  },
  {
   "cell_type": "code",
   "execution_count": 21,
   "metadata": {
    "id": "Zpkwqc382N06"
   },
   "outputs": [
    {
     "data": {
      "image/png": "[encoded data removed]",
      "text/plain": [
       "<Figure size 800x600 with 1 Axes>"
      ]
     },
     "metadata": {},
     "output_type": "display_data"
    }
   ],
   "source": [
    "# Q1e (code):\n",
    "# Correlation line\n",
    "\n",
    "# Import necessary libraries.\n",
    "import matplotlib.pyplot as plt\n",
    "import numpy as np\n",
    "\n",
    "# Prepare data: 'Reading Ability' as X and 'IQ' as Y.\n",
    "X = df_mh['Abil']\n",
    "Y = df_mh['IQ']\n",
    "\n",
    "# Calculate the best fit line (linear regression line).\n",
    "m, b = np.polyfit(X, Y, 1)  # m is the slope, b is the intercept\n",
    "\n",
    "# Create the scatter plot.\n",
    "plt.figure(figsize=(8, 6))  \n",
    "plt.scatter(X, Y, color='blue', alpha=0.5) \n",
    "\n",
    "# Add the correlation line.\n",
    "plt.plot(X, m*X + b, color='red') \n",
    "\n",
    "# Customize the plot.\n",
    "plt.title('Correlation between Reading Ability and IQ') \n",
    "plt.xlabel('Reading Ability')  # Label x-axis\n",
    "plt.ylabel('IQ')  # Label y-axis\n",
    "plt.grid(True)  # Add grid for better readability\n",
    "\n",
    "# Display the plot.\n",
    "plt.show()\n"
   ]
  },
  {
   "cell_type": "markdown",
   "metadata": {
    "id": "tKtW2diqZq1S"
   },
   "source": [
    "**Question 2**:\n",
    "\n",
    "a. Which correlation coefficient test can we use, Pearson or Spearman? Briefly explian why based on the results of Question 1.\n",
    "\n",
    "b. Conduct a correlation coefficient test.\n",
    "\n",
    "c. Interpret the result (direction and strength of the association between the two varibles)"
   ]
  },
  {
   "cell_type": "code",
   "execution_count": 22,
   "metadata": {
    "id": "t5GRVxHwaKIS"
   },
   "outputs": [],
   "source": [
    "# Q2a (answer with words):\n",
    "\n",
    "#Firstly, the scatter plot between 'Abil' and 'IQ' shows a collection of points that suggest a linear relationship between the two variables. \n",
    "\n",
    "#Secondly, Pearson is best used when both variables of interest are normally distributed and the relationship between the variables is linear\n",
    "\n",
    "#So, I choose Pearson"
   ]
  },
  {
   "cell_type": "code",
   "execution_count": 23,
   "metadata": {
    "id": "LTSp6xMFaKgf"
   },
   "outputs": [
    {
     "name": "stdout",
     "output_type": "stream",
     "text": [
      "Pearson correlation coefficient: 0.45116993876507616, P-value: 0.02359260883361456\n",
      "The direction of the association between 'Reading Ability' and 'IQ' is positive.\n",
      "The strength of this association is considered to be moderate.\n",
      "The association is statistically significant.\n"
     ]
    }
   ],
   "source": [
    "# Q2b (code):\n",
    "\n",
    "# Conduct a correlation coefficient test.\n",
    "# Calculate the Pearson correlation coefficient between 'Reading Ability' and 'IQ' using scipy.stats.\n",
    "pearson_corr, pearson_p = stats.pearsonr(df_mh['Abil'], df_mh['IQ'])\n",
    "\n",
    "# Display the results of the Pearson correlation test.\n",
    "print(f\"Pearson correlation coefficient: {pearson_corr}, P-value: {pearson_p}\")\n",
    "\n",
    "# c. Interpret the result.\n",
    "# Determine the direction of the association based on the correlation coefficient.\n",
    "if pearson_corr > 0:\n",
    "    direction = 'positive'  # A positive value indicates a positive relationship.\n",
    "else:\n",
    "    direction = 'negative'  # A negative value indicates a negative relationship.\n",
    "\n",
    "# Assess the strength of the association based on the absolute value of the correlation coefficient.\n",
    "if abs(pearson_corr) < 0.2:\n",
    "    strength = 'very weak'\n",
    "elif abs(pearson_corr) < 0.4:\n",
    "    strength = 'weak'\n",
    "elif abs(pearson_corr) < 0.6:\n",
    "    strength = 'moderate'\n",
    "elif abs(pearson_corr) < 0.8:\n",
    "    strength = 'strong'\n",
    "else:\n",
    "    strength = 'very strong'\n",
    "\n",
    "# Print the interpretation of the direction and strength of the association.\n",
    "print(f\"The direction of the association between 'Reading Ability' and 'IQ' is {direction}.\")\n",
    "print(f\"The strength of this association is considered to be {strength}.\")\n",
    "\n",
    "# Determine the statistical significance based on the P-value.\n",
    "print(f\"The association is {'not statistically significant' if pearson_p >= 0.05 else 'statistically significant'}.\")\n"
   ]
  },
  {
   "cell_type": "code",
   "execution_count": 24,
   "metadata": {
    "id": "m_3aCSG7ylFJ"
   },
   "outputs": [],
   "source": [
    "# Q2c (answer with words):\n",
    "\n",
    "#The Pearson correlation coefficient is 0.451, indicating a positive correlation between reading ability and intelligence.\n",
    "\n",
    "#The coefficient value of 0.451 reflects the moderate correlation strength between the two variables.\n",
    "\n",
    "#The p-value associated with this correlation is 0.024, which is lower than the traditional alpha level of 0.05.\n",
    "\n",
    "#There is a statistically significant and moderate positive correlation between reading ability and intelligence. Although this association is significant, it is not very strong."
   ]
  },
  {
   "cell_type": "markdown",
   "metadata": {
    "id": "mogdaz8P27oU"
   },
   "source": [
    "## Task 2. Chi-square Test\n",
    "We will continue to use the data example from Task 1.\n",
    "\n",
    "We want to explore whether there are significant differences in the amount of time spent reading at home per week (Home) among people with different reading abilities (Reading Ability). Therefore, we will divide the reading ability of all participants into two groups. The first group is those with low reading ability (Reading Ability at or below the rounded average), and the second group is those with high reading ability (Reading Ability above the rounded average). We will store this grouping in a new column named \"Rank_Abil\".\n",
    "\n",
    "\n",
    "Similarly, the reading time is divided into two different scenarios: the first scenario is infrequent reading (Home at or below the rounded average), and the other is frequent reading (Reading Ability above the rounded average). We will store this grouping in a new column named \"Rank_Home\".\n",
    "\n",
    "\n",
    "Then, construct a Contingency Matrix and perform a Chi-square test.\n",
    "\n",
    "**Question 3**:\n",
    "\n",
    "a. Please state the null hypothesis (H0) and alternative hypothesis (H1) for this Chi-square test.\n",
    "\n",
    "b. Based on the task description, add new columns “Rank_Abil” and \"Rank_Home\" to the dataframe df_mh.\n",
    "\n",
    "c. Construct a Contingency Matrix.\n",
    "\n",
    "d. Perform a Chi-square test.\n",
    "\n",
    "e. Interpret the results of the Chi-square test (answer in text)."
   ]
  },
  {
   "cell_type": "code",
   "execution_count": 25,
   "metadata": {
    "id": "tIKHfEwG-Pte"
   },
   "outputs": [],
   "source": [
    "# Q3a (answer in words):\n",
    "# H0: There is no association between reading ability levels (divided into 'low' and 'high' based on the average) and the frequency of reading at home (categorized as 'infrequent' and 'frequent' based on the average).\n",
    "# H1：There is an association between reading ability levels and the frequency of reading at home."
   ]
  },
  {
   "cell_type": "code",
   "execution_count": 26,
   "metadata": {
    "id": "nlO-hmq2-V2Z"
   },
   "outputs": [
    {
     "name": "stdout",
     "output_type": "stream",
     "text": [
      "   Participant  Abil   IQ  Home   TV Rank_Abil   Rank_Home\n",
      "0            1    61  107   144  487      high    frequent\n",
      "1            2    56  109   123  608      high  infrequent\n",
      "2            3    45   81   108  640       low  infrequent\n",
      "3            4    66  100   155  493      high    frequent\n",
      "4            5    49   92   103  636       low  infrequent\n"
     ]
    }
   ],
   "source": [
    "# Q3b (code):\n",
    "# Import necessary libraries\n",
    "import pandas as pd  ##used for ....\n",
    "from scipy.stats import chi2_contingency ##used for ....\n",
    "\n",
    "# Define the rounded average for Reading Ability and Home\n",
    "average_abil = round(df_mh['Abil'].mean()) \n",
    "average_home = round(df_mh['Home'].mean())\n",
    "\n",
    "# Create the Rank_Abil column\n",
    "df_mh['Rank_Abil'] = ['low' if abil <= average_abil else 'high' for abil in df_mh['Abil']]\n",
    "\n",
    "# Create the Rank_Home column\n",
    "df_mh['Rank_Home'] = ['infrequent' if home <= average_home else 'frequent' for home in df_mh['Home']]\n",
    "\n",
    "# Display the first few rows of the updated dataframe.\n",
    "print(df_mh.head())\n"
   ]
  },
  {
   "cell_type": "code",
   "execution_count": 27,
   "metadata": {
    "id": "jjtp4cm4-Y36"
   },
   "outputs": [
    {
     "name": "stdout",
     "output_type": "stream",
     "text": [
      "Rank_Home  frequent  infrequent\n",
      "Rank_Abil                      \n",
      "high              8           2\n",
      "low               3          12\n"
     ]
    }
   ],
   "source": [
    "# Q3c (code):\n",
    "# Construct Contingency Matrix\n",
    "\n",
    "contingency_matrix = pd.crosstab(df_mh['Rank_Abil'], df_mh['Rank_Home'])\n",
    "\n",
    "# Display the Contingency Matrix.\n",
    "print(contingency_matrix)"
   ]
  },
  {
   "cell_type": "code",
   "execution_count": 28,
   "metadata": {
    "id": "gyDS8hq2-bmx"
   },
   "outputs": [
    {
     "name": "stdout",
     "output_type": "stream",
     "text": [
      "Chi-square Statistic: 6.500270562770561, P-value: 0.010785807794066234\n"
     ]
    }
   ],
   "source": [
    "# Q3d (code):\n",
    "# Perform the Chi-square test\n",
    "from scipy.stats import chi2_contingency\n",
    "\n",
    "# Perform the Chi-square test\n",
    "chi2, p_value, dof, expected = chi2_contingency(contingency_matrix)\n",
    "\n",
    "# Display the results of the Chi-square test.\n",
    "print(f\"Chi-square Statistic: {chi2}, P-value: {p_value}\")"
   ]
  },
  {
   "cell_type": "code",
   "execution_count": 29,
   "metadata": {
    "id": "fj0gW0pS-dN5"
   },
   "outputs": [],
   "source": [
    "# Q3e (answer in words):\n",
    "#The chi square statistic is 6.50 with a p-value of 0.011, indicating that we can reject the null hypothesis (H0) \n",
    "\n",
    "#This means that there is a statistically significant correlation between reading ability (\"Rank Abil\") and reading time at home (\"Rank Home\")."
   ]
  },
  {
   "cell_type": "markdown",
   "metadata": {
    "id": "FgYRxqqpaUIk"
   },
   "source": [
    "## Task 3. Two-sample t-test\n",
    "As we discussed on Week 3, Two-sample designs are very useful when we want to know whether there is a difference between groups on a particular variable.\n",
    "\n",
    "In this assignment, you will be guided to replicate the Experiment 4 (p. 887-888) from the paper below, focusing on understanding the data through descriptive statistics, visualizing distributions, testing assumptions (normality and variance homogeneity), and finally performing the independent t-test.\n",
    "\n",
    "Schroeder, J. and Epley, N. (2015). The sound of intellect: Speech reveals a thoughtful mind, increasing a job candidate's appeal. Psychological Science, 26, 277--891.\n",
    "\n",
    "\n",
    "As we explained during Week 3 lecture, there are different types of two-sample designs depending on whether or not the two groups are independent (e.g., different participants in different conditions) or not (e.g., same participants in different conditions). In this course we focus on independent samples, which typically means that the observations in the two groups are unrelated - usually meaning different people. But in real practice you will need to go through similar procedures to determine which is the proper statistical test to use.\n",
    "\n",
    "\n",
    "\n",
    "\n",
    "### Background of data: Speech as indicator of intellect\n",
    "To recap on Experiment 4, 39 professional recruiters from Fortune 500 companies evaluated job pitches of M.B.A. candidates (Masters in Business Administration) from the University of Chicago Booth School of Business. The methods and results appear on pages 887--889 of the article if you want to look at them specifically for more details."
   ]
  },
  {
   "cell_type": "markdown",
   "metadata": {
    "id": "vIc57Glgn5Bb"
   },
   "source": [
    "###Step 1: Analyze the demographics of evaluators from the provided dataset\n",
    "\n",
    "**Instructions:**\n",
    "\n",
    "1. Load the necessary libraries (pandas, scipy, numpy, matplotlib.pyplot, seaborn) and explain why you need them (\"#used for ...\").\n",
    "\n",
    "2. Read the evaluators.csv file into a DataFrame.\n",
    "\n",
    "3. Calculate the mean and standard deviation of the age of the evaluators, handling missing values appropriately.\n",
    "\n",
    "4. Count how many male and female evaluators were in the study.\n",
    "\n",
    "**Question 4:**\n",
    "\n",
    "a. What was the mean age of the evaluators?\n",
    "What was the standard deviation of the age of the evaluators?\n",
    "\n",
    "b. How many participants were female and how many participants were male?\n"
   ]
  },
  {
   "cell_type": "code",
   "execution_count": 30,
   "metadata": {
    "id": "RgnTye-yojyH"
   },
   "outputs": [
    {
     "data": {
      "text/html": [
       "<div>\n",
       "<style scoped>\n",
       "    .dataframe tbody tr th:only-of-type {\n",
       "        vertical-align: middle;\n",
       "    }\n",
       "\n",
       "    .dataframe tbody tr th {\n",
       "        vertical-align: top;\n",
       "    }\n",
       "\n",
       "    .dataframe thead th {\n",
       "        text-align: right;\n",
       "    }\n",
       "</style>\n",
       "<table border=\"1\" class=\"dataframe\">\n",
       "  <thead>\n",
       "    <tr style=\"text-align: right;\">\n",
       "      <th></th>\n",
       "      <th>eval_id</th>\n",
       "      <th>condition</th>\n",
       "      <th>age</th>\n",
       "      <th>sex</th>\n",
       "    </tr>\n",
       "  </thead>\n",
       "  <tbody>\n",
       "    <tr>\n",
       "      <th>0</th>\n",
       "      <td>1</td>\n",
       "      <td>listened</td>\n",
       "      <td>29.0</td>\n",
       "      <td>2.0</td>\n",
       "    </tr>\n",
       "    <tr>\n",
       "      <th>1</th>\n",
       "      <td>2</td>\n",
       "      <td>listened</td>\n",
       "      <td>27.0</td>\n",
       "      <td>2.0</td>\n",
       "    </tr>\n",
       "    <tr>\n",
       "      <th>2</th>\n",
       "      <td>3</td>\n",
       "      <td>listened</td>\n",
       "      <td>27.0</td>\n",
       "      <td>2.0</td>\n",
       "    </tr>\n",
       "    <tr>\n",
       "      <th>3</th>\n",
       "      <td>4</td>\n",
       "      <td>read</td>\n",
       "      <td>40.0</td>\n",
       "      <td>2.0</td>\n",
       "    </tr>\n",
       "    <tr>\n",
       "      <th>4</th>\n",
       "      <td>5</td>\n",
       "      <td>read</td>\n",
       "      <td>32.0</td>\n",
       "      <td>2.0</td>\n",
       "    </tr>\n",
       "  </tbody>\n",
       "</table>\n",
       "</div>"
      ],
      "text/plain": [
       "   eval_id condition   age  sex\n",
       "0        1  listened  29.0  2.0\n",
       "1        2  listened  27.0  2.0\n",
       "2        3  listened  27.0  2.0\n",
       "3        4      read  40.0  2.0\n",
       "4        5      read  32.0  2.0"
      ]
     },
     "execution_count": 30,
     "metadata": {},
     "output_type": "execute_result"
    }
   ],
   "source": [
    "\n",
    "import pandas as pd # used for data manipulation and analysis\n",
    "from scipy import stats # used for performing statistical tests\n",
    "import numpy as np # used for numerical operations\n",
    "import matplotlib.pyplot as plt # used for creating static, interactive, and animated visualizations\n",
    "import seaborn as sns # used for making statistical graphics\n",
    "\n",
    "# Load the data\n",
    "df_evaluators = pd.read_csv('evaluators.csv')\n",
    "df_evaluators.head()\n"
   ]
  },
  {
   "cell_type": "code",
   "execution_count": 31,
   "metadata": {
    "id": "eDw0XnX3BRhe"
   },
   "outputs": [
    {
     "name": "stdout",
     "output_type": "stream",
     "text": [
      "Mean age of evaluators: 30.852941176470587\n",
      "Standard deviation of age of evaluators: 6.238358141327351\n"
     ]
    }
   ],
   "source": [
    "# Q4a (code):\n",
    "# Calculate mean and standard deviation for age\n",
    "\n",
    "import numpy as np\n",
    "\n",
    "mean_age = np.mean(df_evaluators['age'].dropna())\n",
    "print(f\"Mean age of evaluators: {mean_age}\")\n",
    "\n",
    "std_age = np.std(df_evaluators['age'].dropna(), ddof=1)  \n",
    "print(f\"Standard deviation of age of evaluators: {std_age}\")\n"
   ]
  },
  {
   "cell_type": "code",
   "execution_count": 32,
   "metadata": {
    "id": "I0tU57R5ufRI"
   },
   "outputs": [
    {
     "name": "stdout",
     "output_type": "stream",
     "text": [
      "Number of male evaluators: 4\n",
      "Number of female evaluators: 30\n"
     ]
    }
   ],
   "source": [
    "# Q4b (code)\n",
    "# Count male and female evaluators\n",
    "# In the 'sex' column: 1 represents males and 2 represents females\n",
    "\n",
    "# Count the number of male (1) and female (2) evaluators\n",
    "gender_counts = df_evaluators['sex'].value_counts() \n",
    "\n",
    "print(f\"Number of male evaluators: {gender_counts.get(1, 0)}\") \n",
    "print(f\"Number of female evaluators: {gender_counts.get(2, 0)}\")"
   ]
  },
  {
   "cell_type": "markdown",
   "metadata": {
    "id": "KK-MdZfdpDI3"
   },
   "source": [
    "###Step 2: Calculate overall intellect ratings from evaluators and prepare a combined dataset for analysis\n",
    "\n",
    "We are now going to calculate an overall intellect rating given by each evaluator. To break that down a bit, we are going to calculate how intellectual the evaluators (the raters) thought candidates were overall, depending on whether the evaluators read or listened to the candidates' resume pitches. This is calculated by averaging the ratings of competent, thoughtful and intelligent for each evaluator held within ratings.csv.\n",
    "\n",
    "Note: We are not looking at ratings to individual candidates; we are looking at overall ratings for each evaluator. This is a bit confusing but makes sense if you stop to think about it a little. You can think about it in terms of \"do raters rate differently depending on whether they read or listen to a resume pitch\".\n",
    "We will then combine the overall intellect rating with the overall impression ratings and overall hire ratings for each evaluator, all ready found in ratings.csv. In the end we will have a new new dataframe named \"ratings2\" - which has the below structure:\n",
    "\n",
    "**eval_id** shows the evaluator ID. Each evaluator has a different ID. So all the 1's are the same evaluator.\n",
    "\n",
    "**Category** shows the scale that they were rating on - intellect, hire, impression\n",
    "\n",
    "**Rating** shows the overall rating given by that evaluator on a given scale.\n",
    "\n",
    "**condition** shows whether that evaluator listened to (e.g., evaluators 1, 2 and 3), or read (e.g., evaluator 4) the resume.\n",
    "\n",
    "\n",
    "**Instructions:**\n",
    "\n",
    "1. Load the ratings.csv file.\n",
    "\n",
    "2. Filter and calculate the mean intellect rating for each evaluator.\n",
    "\n",
    "3. Combine this with overall impression and hire ratings to create a new DataFrame named \"rating2\".\n",
    "\n",
    "4. Merge this DataFrame with the evaluator demographics.\n",
    "\n",
    "**Question 5**:\n",
    "\n",
    "Print the head of \"rating2\".\n"
   ]
  },
  {
   "cell_type": "code",
   "execution_count": 33,
   "metadata": {
    "id": "l85NzSC-pj57"
   },
   "outputs": [
    {
     "data": {
      "text/html": [
       "<div>\n",
       "<style scoped>\n",
       "    .dataframe tbody tr th:only-of-type {\n",
       "        vertical-align: middle;\n",
       "    }\n",
       "\n",
       "    .dataframe tbody tr th {\n",
       "        vertical-align: top;\n",
       "    }\n",
       "\n",
       "    .dataframe thead th {\n",
       "        text-align: right;\n",
       "    }\n",
       "</style>\n",
       "<table border=\"1\" class=\"dataframe\">\n",
       "  <thead>\n",
       "    <tr style=\"text-align: right;\">\n",
       "      <th></th>\n",
       "      <th>eval_id</th>\n",
       "      <th>Category</th>\n",
       "      <th>Rating</th>\n",
       "    </tr>\n",
       "  </thead>\n",
       "  <tbody>\n",
       "    <tr>\n",
       "      <th>0</th>\n",
       "      <td>1</td>\n",
       "      <td>competent</td>\n",
       "      <td>6.0</td>\n",
       "    </tr>\n",
       "    <tr>\n",
       "      <th>1</th>\n",
       "      <td>1</td>\n",
       "      <td>thoughtful</td>\n",
       "      <td>6.0</td>\n",
       "    </tr>\n",
       "    <tr>\n",
       "      <th>2</th>\n",
       "      <td>1</td>\n",
       "      <td>intelligent</td>\n",
       "      <td>6.0</td>\n",
       "    </tr>\n",
       "    <tr>\n",
       "      <th>3</th>\n",
       "      <td>1</td>\n",
       "      <td>impression</td>\n",
       "      <td>7.0</td>\n",
       "    </tr>\n",
       "    <tr>\n",
       "      <th>4</th>\n",
       "      <td>1</td>\n",
       "      <td>hire</td>\n",
       "      <td>6.0</td>\n",
       "    </tr>\n",
       "  </tbody>\n",
       "</table>\n",
       "</div>"
      ],
      "text/plain": [
       "   eval_id     Category  Rating\n",
       "0        1    competent     6.0\n",
       "1        1   thoughtful     6.0\n",
       "2        1  intelligent     6.0\n",
       "3        1   impression     7.0\n",
       "4        1         hire     6.0"
      ]
     },
     "execution_count": 33,
     "metadata": {},
     "output_type": "execute_result"
    }
   ],
   "source": [
    "# Load ratings data\n",
    "df_ratings = pd.read_csv('ratings.csv')\n",
    "df_ratings.head()\n"
   ]
  },
  {
   "cell_type": "code",
   "execution_count": 34,
   "metadata": {
    "id": "5dxtVUSMBZwf"
   },
   "outputs": [
    {
     "data": {
      "text/html": [
       "<div>\n",
       "<style scoped>\n",
       "    .dataframe tbody tr th:only-of-type {\n",
       "        vertical-align: middle;\n",
       "    }\n",
       "\n",
       "    .dataframe tbody tr th {\n",
       "        vertical-align: top;\n",
       "    }\n",
       "\n",
       "    .dataframe thead th {\n",
       "        text-align: right;\n",
       "    }\n",
       "</style>\n",
       "<table border=\"1\" class=\"dataframe\">\n",
       "  <thead>\n",
       "    <tr style=\"text-align: right;\">\n",
       "      <th></th>\n",
       "      <th>eval_id</th>\n",
       "      <th>Category</th>\n",
       "      <th>Rating</th>\n",
       "      <th>condition</th>\n",
       "    </tr>\n",
       "  </thead>\n",
       "  <tbody>\n",
       "    <tr>\n",
       "      <th>40</th>\n",
       "      <td>1</td>\n",
       "      <td>hire</td>\n",
       "      <td>6.000000</td>\n",
       "      <td>listened</td>\n",
       "    </tr>\n",
       "    <tr>\n",
       "      <th>39</th>\n",
       "      <td>1</td>\n",
       "      <td>impression</td>\n",
       "      <td>7.000000</td>\n",
       "      <td>listened</td>\n",
       "    </tr>\n",
       "    <tr>\n",
       "      <th>0</th>\n",
       "      <td>1</td>\n",
       "      <td>intellect</td>\n",
       "      <td>6.000000</td>\n",
       "      <td>listened</td>\n",
       "    </tr>\n",
       "    <tr>\n",
       "      <th>42</th>\n",
       "      <td>2</td>\n",
       "      <td>hire</td>\n",
       "      <td>4.000000</td>\n",
       "      <td>listened</td>\n",
       "    </tr>\n",
       "    <tr>\n",
       "      <th>41</th>\n",
       "      <td>2</td>\n",
       "      <td>impression</td>\n",
       "      <td>4.666667</td>\n",
       "      <td>listened</td>\n",
       "    </tr>\n",
       "  </tbody>\n",
       "</table>\n",
       "</div>"
      ],
      "text/plain": [
       "    eval_id    Category    Rating condition\n",
       "40        1        hire  6.000000  listened\n",
       "39        1  impression  7.000000  listened\n",
       "0         1   intellect  6.000000  listened\n",
       "42        2        hire  4.000000  listened\n",
       "41        2  impression  4.666667  listened"
      ]
     },
     "execution_count": 34,
     "metadata": {},
     "output_type": "execute_result"
    }
   ],
   "source": [
    "# Q5 (code):\n",
    "\n",
    "# Filter the ratings DataFrame to include only 'thoughtful', 'competent', and 'intelligent' categories\n",
    "intellect_ratings = df_ratings[df_ratings['Category'].isin(['thoughtful', 'competent', 'intelligent'])]\n",
    "\n",
    "# Calculate the mean intellect rating for each evaluator\n",
    "mean_intellect = intellect_ratings.groupby('eval_id')['Rating'].mean().reset_index()\n",
    "\n",
    "# Group by 'eval_id' and calculate mean, then reset the index to convert groupby object back to DataFrame\n",
    "mean_intellect.reset_index(drop=True, inplace=True)\n",
    "\n",
    "# Add a 'Category' column with the value 'intellect' for these rows\n",
    "mean_intellect['Category'] = 'intellect'\n",
    "\n",
    "# Create a DataFrame for 'impression' and 'hire' ratings\n",
    "other_ratings = df_ratings[df_ratings['Category'].isin(['impression', 'hire'])]\n",
    "\n",
    "# Combine the DataFrames to create 'ratings2'\n",
    "# Concatenate the 'intellect_mean' DataFrame with the 'other_ratings' DataFrame\n",
    "ratings2 = pd.concat([mean_intellect, other_ratings], ignore_index=True)\n",
    "\n",
    "# Join 'ratings2' with the 'df_evaluators' DataFrame to add the 'condition' column\n",
    "ratings2 = ratings2.merge(df_evaluators, on='eval_id', how='left')\n",
    "\n",
    "# Select only the necessary columns as per the structure required\n",
    "ratings2 = ratings2[['eval_id', 'Category', 'Rating', 'condition']]\n",
    "\n",
    "# Arrange by 'eval_id' and 'Category'\n",
    "ratings2 = ratings2.sort_values(by=['eval_id', 'Category'])\n",
    "\n",
    "# Display the first few rows of the final 'ratings2' DataFrame to verify\n",
    "ratings2.head()"
   ]
  },
  {
   "cell_type": "markdown",
   "metadata": {
    "id": "fOmtKCzEpoOa"
   },
   "source": [
    "###Step 3: Perform descriptive and inferential statistical analyses, including testing assumptions and conducting independent t-tests.\n",
    "\n",
    "We are going to run the t-tests for Intellect, Hire and Impression; each time comparing evaluators overall ratings for the listened group versus overall ratings for the read group to see if there was a significant difference between the two conditions: i.e., did the evaluators who listened to pitches give a significant higher or lower rating than evaluators that read pitches?\n",
    "\n",
    "**Question 6**:\n",
    "\n",
    "a. In terms of hypotheses, how can we phrase the hypothesis?\n",
    "\n",
    "b. Which t-test should we choose, one-tail or two-tail? And explian why.\n",
    "\n",
    "c. What are the independent variable and the dependent variable here?\n",
    "\n"
   ]
  },
  {
   "cell_type": "code",
   "execution_count": 35,
   "metadata": {
    "id": "duti45rG22eS"
   },
   "outputs": [],
   "source": [
    "# Q6a (answer in words):\n",
    "# Null hypothesis: There is no significant difference in the mean ratings (for Intellect, Hire, and Impression) between evaluators who listened to the pitches and those who read them. \n",
    "\n",
    "# Alternative hypothesis: There is a significant difference in the mean ratings (for Intellect, Hire, and Impression) between evaluators who listened to the pitches and those who read them. \n",
    "\n",
    "# we could phrase the null hypothesis for these tests as there is no significant difference between overall ratings on the {insert trait} scale between evaluators who listened to resume pitches and evaluators who read the resume pitches (H0:μ1=μ2). Alternatively, we could state it as there will be a significant difference between overall ratings on the {insert trait} scale between evaluators who listened to resume pitches and evaluators who read the resume pitches (H1:μ1≠μ2)."
   ]
  },
  {
   "cell_type": "code",
   "execution_count": 36,
   "metadata": {
    "id": "EkoM_0js3fyS"
   },
   "outputs": [],
   "source": [
    "# Q6b (answer in words):\n",
    "# Which t-test should we choose, one-tail or two-tail? Explian why.\n",
    "\n",
    "#Two-tail, because I want to see if there is a significant difference in ratings between the evaluators who listened to pitches and those who read them, without a predefined notion of which group would give higher or lower ratings."
   ]
  },
  {
   "cell_type": "code",
   "execution_count": 37,
   "metadata": {
    "id": "073zOlIsI5ws"
   },
   "outputs": [],
   "source": [
    "# Q6c (answer in words):\n",
    "# What are the independent variable and the dependent variable here?\n",
    "\n",
    "#Independent variable: listened to the pitches (listened) and read the pitches (read)\n",
    "\n",
    "#Dependent variable: Intellect, Hire, and Impression\n"
   ]
  },
  {
   "cell_type": "markdown",
   "metadata": {
    "id": "4g-SpuDX23iL"
   },
   "source": [
    "\n",
    "To clarify, we are going to run three between-subjects t-tests in total; one for intellect ratings; one for hire ratings; one for impression ratings.\n",
    "\n",
    "**Instructions:**\n",
    "\n",
    "1. Descriptive analysis of the ratings.\n",
    "\n",
    "2. Test for normal distribution (Shapiro-Wilk test) and homogeneity of variances (Levene's test) for the intellect, impression, and hire ratings.\n",
    "\n",
    "3. Conduct independent t-tests comparing intellect, impression, and hire ratings between conditions (listened vs. read).\n",
    "\n",
    "Hints: three T-tests need to be performed.\n",
    "\n",
    "**Question 7**:\n",
    "\n",
    "a: Print the test results.\n",
    "\n",
    "b: Interpret the results of the above descriptive statistics, Shapiro-Wilk test, Levene's test, and independent t-tests. Explian why we use these tests and how we made our decisions based on the test result."
   ]
  },
  {
   "cell_type": "code",
   "execution_count": 40,
   "metadata": {
    "id": "QD3ZZRrAq4Gc"
   },
   "outputs": [
    {
     "name": "stdout",
     "output_type": "stream",
     "text": [
      "Descriptive Analysis Results:\n",
      "      Category condition      mean       std  count\n",
      "0        hire  listened  4.714286  2.261479     21\n",
      "1        hire      read  2.888889  2.054805     18\n",
      "2  impression  listened  5.968254  1.917477     21\n",
      "3  impression      read  4.074074  2.233306     18\n",
      "4   intellect  listened  5.634921  1.608674     21\n",
      "5   intellect      read  3.648148  1.911343     18\n",
      "\n",
      "Shapiro-Wilk Normality Test Results:\n",
      "intellect_listened: Statistic=0.9350408315658569, p-value=0.17365092039108276\n",
      "intellect_read: Statistic=0.9512398838996887, p-value=0.4447984993457794\n",
      "hire_listened: Statistic=0.9390669465065002, p-value=0.20883114635944366\n",
      "hire_read: Statistic=0.9034496545791626, p-value=0.06600592285394669\n",
      "impression_listened: Statistic=0.9394754767417908, p-value=0.21275967359542847\n",
      "impression_read: Statistic=0.9483764171600342, p-value=0.40011918544769287\n",
      "\n",
      "Levene's Test for Homogeneity of Variances Results:\n",
      "intellect: Statistic=0.8980185752566812, p-value=0.34946205893248505\n",
      "hire: Statistic=0.10663746145199855, p-value=0.7458453933447955\n",
      "impression: Statistic=0.39045326236607025, p-value=0.5358960150374064\n",
      "\n",
      "Independent t-Test Results:\n",
      "intellect: Statistic=3.5259329220482414, p-value=0.0011444414996286821\n",
      "hire: Statistic=2.620100218173143, p-value=0.012674511839824125\n",
      "impression: Statistic=2.850766179025179, p-value=0.007091060616710596\n"
     ]
    }
   ],
   "source": [
    "##Q7a (code):\n",
    "from scipy.stats import shapiro, levene, ttest_ind # used for statistical tests\n",
    "\n",
    "# Descriptive analysis of the ratings\n",
    "ratings_desc = ratings2.groupby(['Category', 'condition'])['Rating'].agg(['mean', 'std', 'count']).reset_index()\n",
    "\n",
    "# Test for normal distribution (Shapiro-Wilk test)\n",
    "shapiro_results = {}\n",
    "for category in ['intellect', 'hire', 'impression']:\n",
    "    for condition in ['listened', 'read']:\n",
    "        # Selecting ratings for a specific category and condition\n",
    "        sample = ratings2[(ratings2['Category'] == category) & (ratings2['condition'] == condition)]['Rating']\n",
    "           # Performing Shapiro-Wilk test\n",
    "        shapiro_results[f'{category}_{condition}'] = shapiro(sample)\n",
    "\n",
    "# Test for homogeneity of variances (Levene's test)\n",
    "levene_results = {}\n",
    "for category in ['intellect', 'hire', 'impression']:\n",
    "    # Retrieving ratings for listened and read conditions\n",
    "    sample_listened = ratings2[(ratings2['Category'] == category) & (ratings2['condition'] == 'listened')]['Rating']\n",
    "    sample_read = ratings2[(ratings2['Category'] == category) & (ratings2['condition'] == 'read')]['Rating']\n",
    "    # Performing Levene's test for equality of variances\n",
    "    levene_results[category] = levene(sample_listened, sample_read)\n",
    "\n",
    "# Independent t-tests\n",
    "ttest_results = {}\n",
    "for category in ['intellect', 'hire', 'impression']:\n",
    "    # Retrieving ratings for listened and read conditions\n",
    "    sample_listened = ratings2[(ratings2['Category'] == category) & (ratings2['condition'] == 'listened')]['Rating']\n",
    "    sample_read = ratings2[(ratings2['Category'] == category) & (ratings2['condition'] == 'read')]['Rating']\n",
    "    # Performing independent t-tests\n",
    "    ttest_results[category] = ttest_ind(sample_listened, sample_read)\n",
    "\n",
    "#ratings_desc, shapiro_results, levene_results, ttest_results\n",
    "\n",
    "print(\"Descriptive Analysis Results:\\n\", ratings_desc)\n",
    "\n",
    "print(\"\\nShapiro-Wilk Normality Test Results:\")\n",
    "for key, value in shapiro_results.items():\n",
    "    print(f\"{key}: Statistic={value[0]}, p-value={value[1]}\")\n",
    "\n",
    "print(\"\\nLevene's Test for Homogeneity of Variances Results:\")\n",
    "for key, value in levene_results.items():\n",
    "    print(f\"{key}: Statistic={value[0]}, p-value={value[1]}\")\n",
    "\n",
    "print(\"\\nIndependent t-Test Results:\")\n",
    "for key, value in ttest_results.items():\n",
    "    print(f\"{key}: Statistic={value[0]}, p-value={value[1]}\")\n"
   ]
  },
  {
   "cell_type": "code",
   "execution_count": null,
   "metadata": {
    "id": "aifm_T8UQwYm"
   },
   "outputs": [],
   "source": [
    "#Q7b (answer in words): \n",
    "\n",
    "#Descriptive analysis: Evaluators gave higher average ratings for 'listened' compared to 'read' across all categories: Intellect, Hire, and Impression. This suggests a general preference or perceived higher quality in the listened-to pitches.\n",
    "\n",
    "#Shapiro-Wilk Test: All p-values exceeded 0.05, indicating that ratings for each condition within each category follow a normal distribution. This justifies the use of parametric tests like the independent t-test for further analysis.\n",
    "\n",
    "#Levene's Test: With all p-values above 0.05, there's no significant variance difference between listened and read conditions within each category. This confirms that the assumption of equal variances, required for independent t-tests, is met.\n",
    "\n",
    "#Independent t-Tests: Significant p-values (below 0.05) in Intellect, Hire, and Impression categories indicate that there are statistically significant differences in ratings between listened and read conditions. Specifically, listened-to pitches were rated higher than read pitches.\n",
    "\n",
    "#Reasons: Because the use of Shapiro-Wilk and Levene’s tests can ensure that the data meets the assumptions for conducting independent t-tests. The significant results from the t-tests reveal that the mode of pitch presentation (listened vs. read) significantly influences evaluators' ratings. \n"
   ]
  }
 ],
 "metadata": {
  "colab": {
   "provenance": []
  },
  "kernelspec": {
   "display_name": "Python 3 (ipykernel)",
   "language": "python",
   "name": "python3"
  },
  "language_info": {
   "codemirror_mode": {
    "name": "ipython",
    "version": 3
   },
   "file_extension": ".py",
   "mimetype": "text/x-python",
   "name": "python",
   "nbconvert_exporter": "python",
   "pygments_lexer": "ipython3",
   "version": "3.11.4"
  }
 },
 "nbformat": 4,
 "nbformat_minor": 1
}
